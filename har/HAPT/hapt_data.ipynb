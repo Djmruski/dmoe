{
 "cells": [
  {
   "cell_type": "code",
   "execution_count": 1,
   "metadata": {},
   "outputs": [],
   "source": [
    "import torch\n",
    "import numpy as np\n",
    "import pickle\n",
    "from collections import Counter"
   ]
  },
  {
   "cell_type": "code",
   "execution_count": 2,
   "metadata": {},
   "outputs": [
    {
     "name": "stdout",
     "output_type": "stream",
     "text": [
      "7767\n",
      "Counter({'5': 1423, '6': 1413, '4': 1293, '1': 1226, '2': 1073, '3': 987, '11': 90, '9': 75, '10': 60, '12': 57, '7': 47, '8': 23})\n",
      "['1', '10', '11', '12', '2', '3', '4', '5', '6', '7', '8', '9']\n"
     ]
    }
   ],
   "source": [
    "label = []\n",
    "\n",
    "with open('Train/y_train.txt') as f:\n",
    "    for line in f.readlines():\n",
    "        label.append(line.strip())\n",
    "\n",
    "print(len(label))\n",
    "print(Counter(label))\n",
    "print(sorted(set(label)))"
   ]
  },
  {
   "cell_type": "code",
   "execution_count": 3,
   "metadata": {},
   "outputs": [
    {
     "name": "stdout",
     "output_type": "stream",
     "text": [
      "7767\n"
     ]
    }
   ],
   "source": [
    "data = []\n",
    "\n",
    "with open('Train/X_train.txt') as f:\n",
    "    for line in f.readlines():\n",
    "        data.append(line.strip())\n",
    "\n",
    "print(len(data))"
   ]
  },
  {
   "cell_type": "code",
   "execution_count": 7,
   "metadata": {},
   "outputs": [
    {
     "name": "stdout",
     "output_type": "stream",
     "text": [
      "(7767,)\n",
      "10763\n"
     ]
    }
   ],
   "source": [
    "arr = np.array(data)\n",
    "print(arr.shape)\n",
    "print(len(arr[0]))"
   ]
  },
  {
   "cell_type": "code",
   "execution_count": 9,
   "metadata": {},
   "outputs": [
    {
     "data": {
      "text/plain": [
       "(7767, 561)"
      ]
     },
     "execution_count": 9,
     "metadata": {},
     "output_type": "execute_result"
    }
   ],
   "source": [
    "arr = np.loadtxt('Train/X_train.txt')\n",
    "arr.shape"
   ]
  },
  {
   "cell_type": "code",
   "execution_count": 13,
   "metadata": {},
   "outputs": [
    {
     "data": {
      "text/plain": [
       "[1.0,\n",
       " 3.0,\n",
       " 5.0,\n",
       " 6.0,\n",
       " 7.0,\n",
       " 8.0,\n",
       " 11.0,\n",
       " 14.0,\n",
       " 15.0,\n",
       " 16.0,\n",
       " 17.0,\n",
       " 19.0,\n",
       " 21.0,\n",
       " 22.0,\n",
       " 23.0,\n",
       " 25.0,\n",
       " 26.0,\n",
       " 27.0,\n",
       " 28.0,\n",
       " 29.0,\n",
       " 30.0]"
      ]
     },
     "execution_count": 13,
     "metadata": {},
     "output_type": "execute_result"
    }
   ],
   "source": [
    "subject = np.loadtxt('Train/subject_id_train.txt')\n",
    "labels = np.loadtxt('Train/y_train.txt')\n",
    "\n",
    "np.unique(subject).tolist()"
   ]
  },
  {
   "cell_type": "code",
   "execution_count": 30,
   "metadata": {},
   "outputs": [
    {
     "data": {
      "text/plain": [
       "(729,)"
      ]
     },
     "execution_count": 30,
     "metadata": {},
     "output_type": "execute_result"
    }
   ],
   "source": [
    "train_agent_idx = np.argwhere(np.isin(subject, train_agent)).ravel()\n",
    "test_agent_idx = np.argwhere(np.isin(subject, test_agent)).ravel()\n",
    "\n",
    "test_agent_idx.shape"
   ]
  },
  {
   "cell_type": "code",
   "execution_count": 34,
   "metadata": {},
   "outputs": [
    {
     "name": "stdout",
     "output_type": "stream",
     "text": [
      "[ 1  2  3  4  5  6  7  8  9 10 11 12]\n",
      "Counter({5: 1423, 6: 1413, 4: 1293, 1: 1226, 2: 1073, 3: 987, 11: 90, 9: 75, 10: 60, 12: 57, 7: 47, 8: 23})\n",
      "\n",
      "[ 1  2  3  4  5  6  7  8  9 10 11 12]\n",
      "Counter({5: 556, 6: 545, 4: 508, 1: 496, 2: 471, 3: 420, 11: 49, 9: 32, 12: 27, 10: 25, 7: 23, 8: 10})\n"
     ]
    }
   ],
   "source": [
    "train_y = np.loadtxt('Train/y_train.txt', dtype=np.int32)\n",
    "print(np.unique(train_y))\n",
    "print(Counter(train_y))\n",
    "print()\n",
    "\n",
    "test_y = np.loadtxt('Test/y_test.txt', dtype=np.int32)\n",
    "print(np.unique(test_y))\n",
    "print(Counter(test_y))"
   ]
  },
  {
   "cell_type": "code",
   "execution_count": 37,
   "metadata": {},
   "outputs": [
    {
     "name": "stdout",
     "output_type": "stream",
     "text": [
      "Counter({4: 1423, 5: 1413, 3: 1293, 0: 1226, 1: 1073, 2: 987, 10: 90, 8: 75, 9: 60, 11: 57, 6: 47, 7: 23})\n",
      "Counter({4: 556, 5: 545, 3: 508, 0: 496, 1: 471, 2: 420, 10: 49, 8: 32, 11: 27, 9: 25, 6: 23, 7: 10})\n"
     ]
    }
   ],
   "source": [
    "y_map = {v: k for k, v in enumerate(np.unique(train_y))}\n",
    "new_train_y = np.vectorize(y_map.get)(train_y)\n",
    "new_test_y = np.vectorize(y_map.get)(test_y)\n",
    "\n",
    "print(Counter(new_train_y))\n",
    "print(Counter(new_test_y))"
   ]
  },
  {
   "cell_type": "code",
   "execution_count": 41,
   "metadata": {},
   "outputs": [
    {
     "data": {
      "text/plain": [
       "torch.Size([7767, 561])"
      ]
     },
     "execution_count": 41,
     "metadata": {},
     "output_type": "execute_result"
    }
   ],
   "source": [
    "x_tensor = torch.tensor(arr).size()\n",
    "y_tensor = new"
   ]
  },
  {
   "cell_type": "code",
   "execution_count": 45,
   "metadata": {},
   "outputs": [
    {
     "data": {
      "text/plain": [
       "tensor([5, 2, 4, 1, 0])"
      ]
     },
     "execution_count": 45,
     "metadata": {},
     "output_type": "execute_result"
    }
   ],
   "source": [
    "a = torch.rand(5, 8)\n",
    "a.argmin(1)"
   ]
  },
  {
   "cell_type": "code",
   "execution_count": 2,
   "metadata": {},
   "outputs": [],
   "source": [
    "train_y = np.loadtxt(f\"Train/y_train.txt\", dtype=np.int32)"
   ]
  },
  {
   "cell_type": "code",
   "execution_count": 3,
   "metadata": {},
   "outputs": [
    {
     "data": {
      "text/plain": [
       "(7767, 561)"
      ]
     },
     "execution_count": 3,
     "metadata": {},
     "output_type": "execute_result"
    }
   ],
   "source": [
    "train_x = np.loadtxt(f\"Train/X_train.txt\")\n",
    "train_x.shape"
   ]
  },
  {
   "cell_type": "code",
   "execution_count": 8,
   "metadata": {},
   "outputs": [
    {
     "name": "stdout",
     "output_type": "stream",
     "text": [
      "1.0 -1.0\n",
      "0.9971274343247647 -1.0\n",
      "0.9971274343247647 -1.0\n",
      "1.0 -1.0\n",
      "0.9974583817441267 -1.0\n",
      "0.9974583817441267 -1.0\n",
      "0.9965821026882202 -1.0\n",
      "0.9965821026882202 -1.0\n",
      "0.9967228316850825 -1.0\n",
      "0.9944383747884191 -1.0\n",
      "0.9948942903959743 -1.0\n",
      "0.9975714841997638 -1.0\n",
      "0.9990291881358793 -1.0\n",
      "0.9985432195179826 -1.0\n",
      "0.9716304680693764 -1.0\n",
      "0.9950173831073981 -1.0\n",
      "0.9991845889106441 -1.0\n",
      "0.9989523596993228 -1.0\n",
      "0.9211474178256389 -1.0\n",
      "0.927424518643394 -1.0\n",
      "0.9863220831448716 -1.0\n",
      "0.9924206586892281 -1.0\n",
      "0.9990320703593019 -1.0\n",
      "0.9990320703593019 -1.0\n",
      "0.9977236715343396 -1.0\n",
      "0.9976213850380462 -1.0\n",
      "0.989377841443942 -1.0\n",
      "0.996891580533722 -1.0\n",
      "0.9983023411066814 -1.0\n",
      "0.9991108303863465 -1.0\n"
     ]
    }
   ],
   "source": [
    "for i in range(30):\n",
    "    print(np.max(train_x[i]), np.min(train_x[i]))"
   ]
  }
 ],
 "metadata": {
  "kernelspec": {
   "display_name": "pytorch",
   "language": "python",
   "name": "python3"
  },
  "language_info": {
   "codemirror_mode": {
    "name": "ipython",
    "version": 3
   },
   "file_extension": ".py",
   "mimetype": "text/x-python",
   "name": "python",
   "nbconvert_exporter": "python",
   "pygments_lexer": "ipython3",
   "version": "3.8.10"
  },
  "orig_nbformat": 4
 },
 "nbformat": 4,
 "nbformat_minor": 2
}
