{
 "cells": [
  {
   "cell_type": "code",
   "execution_count": 1,
   "metadata": {},
   "outputs": [],
   "source": [
    "import numpy as np\n",
    "import torch\n",
    "import pickle"
   ]
  },
  {
   "cell_type": "code",
   "execution_count": 9,
   "metadata": {},
   "outputs": [
    {
     "data": {
      "text/plain": [
       "3"
      ]
     },
     "execution_count": 9,
     "metadata": {},
     "output_type": "execute_result"
    }
   ],
   "source": [
    "dsads = pickle.load(open('gdumb_dsads.pkl', 'rb'))\n",
    "\n",
    "len(dsads['data'][0]['classes'])"
   ]
  },
  {
   "cell_type": "code",
   "execution_count": 10,
   "metadata": {},
   "outputs": [],
   "source": [
    "for k, v in dsads['data'].items():\n",
    "    v['ncla'] = len(v['classes'])"
   ]
  },
  {
   "cell_type": "code",
   "execution_count": 21,
   "metadata": {},
   "outputs": [
    {
     "data": {
      "text/plain": [
       "{0: 0,\n",
       " 5: 1,\n",
       " 11: 2,\n",
       " 1: 3,\n",
       " 8: 4,\n",
       " 16: 5,\n",
       " 3: 6,\n",
       " 13: 7,\n",
       " 15: 8,\n",
       " 17: 9,\n",
       " 2: 10,\n",
       " 9: 11,\n",
       " 18: 12,\n",
       " 4: 13,\n",
       " 12: 14,\n",
       " 7: 15,\n",
       " 10: 16,\n",
       " 14: 17,\n",
       " 6: 18}"
      ]
     },
     "execution_count": 21,
     "metadata": {},
     "output_type": "execute_result"
    }
   ],
   "source": [
    "dsads['clsorder']\n",
    "\n",
    "cls2idx = {v: k for k, v in enumerate(dsads['clsorder'])}\n",
    "cls2idx"
   ]
  },
  {
   "cell_type": "code",
   "execution_count": null,
   "metadata": {},
   "outputs": [],
   "source": []
  },
  {
   "cell_type": "code",
   "execution_count": 32,
   "metadata": {},
   "outputs": [],
   "source": [
    "# dsads['data'][0]['trn']['y']\n",
    "for k, v in dsads['data'].items():\n",
    "    v['trn']['y'] = list(map(cls2idx.get, v['trn']['y']))\n",
    "    v['val']['y'] = list(map(cls2idx.get, v['val']['y']))\n",
    "    v['tst']['y'] = list(map(cls2idx.get, v['tst']['y']))\n",
    "    v['classes'] = np.array(list(map(cls2idx.get, v['classes'].tolist())))"
   ]
  },
  {
   "cell_type": "code",
   "execution_count": 34,
   "metadata": {},
   "outputs": [
    {
     "data": {
      "text/plain": [
       "array([3, 4])"
      ]
     },
     "execution_count": 34,
     "metadata": {},
     "output_type": "execute_result"
    }
   ],
   "source": [
    "dsads['data'][1]['classes']"
   ]
  },
  {
   "cell_type": "code",
   "execution_count": 35,
   "metadata": {},
   "outputs": [],
   "source": [
    "pickle.dump(dsads, open('gdumb_dsads.pkl', 'wb'))"
   ]
  },
  {
   "cell_type": "code",
   "execution_count": 14,
   "metadata": {},
   "outputs": [
    {
     "data": {
      "text/plain": [
       "array([0, 1, 2])"
      ]
     },
     "execution_count": 14,
     "metadata": {},
     "output_type": "execute_result"
    }
   ],
   "source": [
    "ori = pickle.load(open('dsads_10_5.pkl', 'rb'))\n",
    "ori['data']['data'][0]['classes']"
   ]
  }
 ],
 "metadata": {
  "kernelspec": {
   "display_name": "pytorch",
   "language": "python",
   "name": "python3"
  },
  "language_info": {
   "codemirror_mode": {
    "name": "ipython",
    "version": 3
   },
   "file_extension": ".py",
   "mimetype": "text/x-python",
   "name": "python",
   "nbconvert_exporter": "python",
   "pygments_lexer": "ipython3",
   "version": "3.8.10"
  },
  "orig_nbformat": 4
 },
 "nbformat": 4,
 "nbformat_minor": 2
}
